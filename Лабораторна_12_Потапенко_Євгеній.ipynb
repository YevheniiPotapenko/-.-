{
  "nbformat": 4,
  "nbformat_minor": 0,
  "metadata": {
    "colab": {
      "provenance": [],
      "include_colab_link": true
    },
    "kernelspec": {
      "name": "python3",
      "display_name": "Python 3"
    },
    "language_info": {
      "name": "python"
    }
  },
  "cells": [
    {
      "cell_type": "markdown",
      "metadata": {
        "id": "view-in-github",
        "colab_type": "text"
      },
      "source": [
        "<a href=\"https://colab.research.google.com/github/YevheniiPotapenko/Files/blob/main/%D0%9B%D0%B0%D0%B1%D0%BE%D1%80%D0%B0%D1%82%D0%BE%D1%80%D0%BD%D0%B0_12_%D0%9F%D0%BE%D1%82%D0%B0%D0%BF%D0%B5%D0%BD%D0%BA%D0%BE_%D0%84%D0%B2%D0%B3%D0%B5%D0%BD%D1%96%D0%B9.ipynb\" target=\"_parent\"><img src=\"https://colab.research.google.com/assets/colab-badge.svg\" alt=\"Open In Colab\"/></a>"
      ]
    },
    {
      "cell_type": "markdown",
      "source": [
        "#Лабораторна робота 12, Потапенка Євгена Олександровича, Група ФІТ 2-15.\n",
        "#Варіант 11\n",
        "Тема: Чисельне інтегрування"
      ],
      "metadata": {
        "id": "eSg8AuYPBrGI"
      }
    },
    {
      "cell_type": "markdown",
      "source": [
        "Завдання 2. Визначити інтеграм методом трапецій"
      ],
      "metadata": {
        "id": "bkVnaWJ6vO8h"
      }
    },
    {
      "cell_type": "code",
      "source": [
        "#Обчислення інтегралу методом трапецій\n",
        "\n",
        "from scipy import integrate\n",
        "import numpy as np\n",
        "\n",
        "# Задаємо функцію, яку необхідно інтегрувати\n",
        "def f(x):\n",
        "    return 1/np.sqrt(0.5 * x**2 + 1)\n",
        "\n",
        "# Задаємо межі інтегрування та початкову кількість розбиттів\n",
        "\n",
        "a, b, n = 3.2, 4, 20\n",
        "\n",
        "# Обчислюємо значення інтегралу методом трапецій\n",
        "def trapezoidal_rule(f, a, b, n):\n",
        "    h = (b - a) / n\n",
        "    sum = 0.5 * (f(a) + f(b))\n",
        "    x = a\n",
        "\n",
        "    for i in range(1, n):\n",
        "        x += h\n",
        "        sum += f(x)\n",
        "\n",
        "    integral = h * sum\n",
        "\n",
        "    return integral\n",
        "\n",
        "# Виводимо результат методу трапецій\n",
        "integral = trapezoidal_rule(f, a, b, n)\n",
        "print(\"Trapetzia method result:\", round(integral, 5))\n",
        "\n",
        "# Перевірка за допомогою вбудованої функції\n",
        "v, err = integrate.quad(f, a, b)\n",
        "print(\"Check with SciPy quad method:\", round(v, 5))"
      ],
      "metadata": {
        "colab": {
          "base_uri": "https://localhost:8080/"
        },
        "id": "scjZgZaGxOW5",
        "outputId": "fe3ae5db-1de8-4199-8dde-e22da73e89ec"
      },
      "execution_count": 4,
      "outputs": [
        {
          "output_type": "stream",
          "name": "stdout",
          "text": [
            "Trapetzia method result: 0.29335\n",
            "Check with SciPy quad method: 0.29335\n"
          ]
        }
      ]
    },
    {
      "cell_type": "markdown",
      "source": [
        "Завдання 1. Метод прямокутників (правих, лівих і середніх)"
      ],
      "metadata": {
        "id": "fKQyEy3uv2VX"
      }
    },
    {
      "cell_type": "code",
      "source": [
        "#Обчислення інтеграла методом прямокутників\n",
        "from scipy import integrate\n",
        "import numpy as np\n",
        "\n",
        "a, b, n = 2, 3.5, 10\n",
        "h = (b - a) / n  # Крок\n",
        "\n",
        "def f1(x):\n",
        "    return 1/np.sqrt(x - 1)\n",
        "\n",
        "# Метод лівих прямокутників\n",
        "def left_rec(f1, a, b):\n",
        "    sum = 0\n",
        "    for i in range(0, n):\n",
        "        sum += f1(a + i * h)\n",
        "    return sum * h\n",
        "\n",
        "print(\"Left rectangle:\", round(left_rec(f1, a, b), 5))\n",
        "\n",
        "# Метод правих прямокутників\n",
        "def right_rec(f1, a, b):\n",
        "    sum = 0\n",
        "    for i in range(1, n + 1):\n",
        "        sum += f1(a + i * h)\n",
        "    return sum * h\n",
        "\n",
        "print(\"Right rectangle:\", round(right_rec(f1, a, b), 5))\n",
        "\n",
        "# Метод середніх прямокутників\n",
        "def aver_rec(f1, a, b):\n",
        "    sum = 0\n",
        "    for i in range(0, n):\n",
        "        sum += f1(a + (i + 0.5) * h)\n",
        "    return sum * h\n",
        "\n",
        "print(\"Average rectangle:\", round(aver_rec(f1, a, b), 5))\n",
        "\n",
        "# Перевірка за допомогою функції scipy\n",
        "v, err = integrate.quad(f1, a, b)\n",
        "print(\"Check with SciPy quad method:\", round(v, 5))\n",
        "\n"
      ],
      "metadata": {
        "colab": {
          "base_uri": "https://localhost:8080/"
        },
        "id": "jzRa6rb3v1Mu",
        "outputId": "c00f373f-c0ef-46b8-b670-8b6ab1c09607"
      },
      "execution_count": 5,
      "outputs": [
        {
          "output_type": "stream",
          "name": "stdout",
          "text": [
            "Left rectangle: 1.19054\n",
            "Right rectangle: 1.13541\n",
            "Average rectangle: 1.16193\n",
            "Check with SciPy quad method: 1.16228\n"
          ]
        }
      ]
    },
    {
      "cell_type": "markdown",
      "source": [
        "Завдання 3. Метод Симпсона"
      ],
      "metadata": {
        "id": "r9xzRufQxFRO"
      }
    },
    {
      "cell_type": "code",
      "source": [
        "#Обчислення інтеграла методом Симпсона\n",
        "from scipy import integrate\n",
        "import numpy as np\n",
        "\n",
        "# Задаємо функцію, яку необхідно інтегрувати\n",
        "def f(x):\n",
        "    return np.cos(x)/(x + 1)\n",
        "\n",
        "# Задаємо межі інтегрування та початкову кількість розбиттів\n",
        "a, b, n = 0.18, 0.98, 8\n",
        "h = (b - a) / n\n",
        "\n",
        "# Обчислюємо значення інтегралу методом Симпсона\n",
        "def simpson_rule(f, a, b, n):\n",
        "    integr = f(a) + f(b)\n",
        "    for i in range(1,n):\n",
        "        k = a + i*h\n",
        "        if i%2 == 0:\n",
        "            integr += 2 * f(k)\n",
        "        else:\n",
        "            integr += 4 * f(k)\n",
        "    integr *= h/3\n",
        "    return integr\n",
        "\n",
        "\n",
        "# Виводимо результат\n",
        "print(\"Simpsone method:\", round(simpson_rule(f, a, b, n), 3))\n",
        "\n",
        "v,err = integrate.quad(f,a,b)#Перевірка\n",
        "print(\"Check for the simpsone method= \",round(v, 3))\n"
      ],
      "metadata": {
        "colab": {
          "base_uri": "https://localhost:8080/"
        },
        "id": "FnvcjErXwrQy",
        "outputId": "a26f7e12-2b6c-40ba-e5a5-424bea09ccd9"
      },
      "execution_count": 6,
      "outputs": [
        {
          "output_type": "stream",
          "name": "stdout",
          "text": [
            "Simpsone method: 0.431\n",
            "Check for the simpsone method=  0.431\n"
          ]
        }
      ]
    },
    {
      "cell_type": "markdown",
      "source": [
        "Висновок: Виконавши дану лабораторну роботу, я попрацював та доволі швидко зроязумів як працювати  із чисельним інтегруванням."
      ],
      "metadata": {
        "id": "3FHH4P1HCJKa"
      }
    }
  ]
}