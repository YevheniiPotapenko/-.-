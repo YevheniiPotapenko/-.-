{
  "cells": [
    {
      "cell_type": "markdown",
      "metadata": {
        "id": "view-in-github",
        "colab_type": "text"
      },
      "source": [
        "<a href=\"https://colab.research.google.com/github/YevheniiPotapenko/Files/blob/main/%D0%9B%D0%B0%D0%B1%D0%BE%D1%80%D0%B0%D1%82%D0%BE%D1%80%D0%BD%D0%B0__4_1_%D0%9F%D0%BE%D1%82%D0%B0%D0%BF%D0%B5%D0%BD%D0%BA%D0%B0_%D0%84%D0%B2%D0%B3%D0%B5%D0%BD%D0%B0_%D0%9E%D0%BB%D0%B5%D0%BA%D1%81%D0%B0%D0%BD%D0%B4%D1%80%D0%BE%D0%B2%D0%B8%D1%87%D0%B0.ipynb\" target=\"_parent\"><img src=\"https://colab.research.google.com/assets/colab-badge.svg\" alt=\"Open In Colab\"/></a>"
      ]
    },
    {
      "cell_type": "markdown",
      "source": [
        "Лабораторна робота 4_1, Потапенка Євгена Олександровича, Група ФІТ 2-15. Тема: «Робота з матрицями»"
      ],
      "metadata": {
        "id": "IkAW-U4z1Hrz"
      },
      "id": "IkAW-U4z1Hrz"
    },
    {
      "cell_type": "code",
      "execution_count": 1,
      "id": "0933fef7-7415-45e1-808f-458fd0a00c14",
      "metadata": {
        "tags": [],
        "id": "0933fef7-7415-45e1-808f-458fd0a00c14"
      },
      "outputs": [],
      "source": [
        "#Встaновити numpy\n",
        "#!pip install numpy"
      ]
    },
    {
      "cell_type": "code",
      "source": [
        "# Приклади роботи з матрицями\n",
        "import numpy as np\n",
        "# Отримання версії бібліотеки NumPy\n",
        "numpy_version = np.__version__\n",
        "numpy_version\n"
      ],
      "metadata": {
        "colab": {
          "base_uri": "https://localhost:8080/",
          "height": 35
        },
        "id": "nETPPRQBKp5_",
        "outputId": "c47da35b-6b7c-4c71-f9fb-ee298ac448af"
      },
      "id": "nETPPRQBKp5_",
      "execution_count": 2,
      "outputs": [
        {
          "output_type": "execute_result",
          "data": {
            "text/plain": [
              "'2.0.2'"
            ],
            "application/vnd.google.colaboratory.intrinsic+json": {
              "type": "string"
            }
          },
          "metadata": {},
          "execution_count": 2
        }
      ]
    },
    {
      "cell_type": "code",
      "source": [
        "#1.\n",
        "matrix = np.random.randint(1, 6, size =(3, 3))\n",
        "\n",
        "matrix"
      ],
      "metadata": {
        "colab": {
          "base_uri": "https://localhost:8080/"
        },
        "id": "JCinAxgVxqDm",
        "outputId": "b58717d6-b3c2-4663-dbfc-ddcb84fd3676"
      },
      "id": "JCinAxgVxqDm",
      "execution_count": 3,
      "outputs": [
        {
          "output_type": "execute_result",
          "data": {
            "text/plain": [
              "array([[2, 5, 2],\n",
              "       [1, 4, 1],\n",
              "       [1, 2, 3]])"
            ]
          },
          "metadata": {},
          "execution_count": 3
        }
      ]
    },
    {
      "cell_type": "code",
      "source": [
        "#2.\n",
        "det = np.linalg.det(matrix)\n",
        "det"
      ],
      "metadata": {
        "colab": {
          "base_uri": "https://localhost:8080/"
        },
        "id": "RTTIiIsYywyA",
        "outputId": "2296cc04-f7ec-4fb7-ce51-bb481cbbdf2d"
      },
      "id": "RTTIiIsYywyA",
      "execution_count": 4,
      "outputs": [
        {
          "output_type": "execute_result",
          "data": {
            "text/plain": [
              "np.float64(6.0)"
            ]
          },
          "metadata": {},
          "execution_count": 4
        }
      ]
    },
    {
      "cell_type": "code",
      "source": [
        "#3.\n",
        "product = np.prod(matrix)\n",
        "product"
      ],
      "metadata": {
        "colab": {
          "base_uri": "https://localhost:8080/"
        },
        "id": "p1XZcN3izFGi",
        "outputId": "8791b6fa-df9d-4c51-bfdf-28b093f0ea51"
      },
      "id": "p1XZcN3izFGi",
      "execution_count": 5,
      "outputs": [
        {
          "output_type": "execute_result",
          "data": {
            "text/plain": [
              "np.int64(480)"
            ]
          },
          "metadata": {},
          "execution_count": 5
        }
      ]
    },
    {
      "cell_type": "code",
      "source": [
        "#4.\n",
        "sum = np.sum(matrix)\n",
        "sum"
      ],
      "metadata": {
        "colab": {
          "base_uri": "https://localhost:8080/"
        },
        "id": "_oZQwPGEzcqw",
        "outputId": "3bc1e0af-85e7-4733-f992-546bd1ad8f66"
      },
      "id": "_oZQwPGEzcqw",
      "execution_count": 6,
      "outputs": [
        {
          "output_type": "execute_result",
          "data": {
            "text/plain": [
              "np.int64(21)"
            ]
          },
          "metadata": {},
          "execution_count": 6
        }
      ]
    },
    {
      "cell_type": "code",
      "source": [
        "#5.\n",
        "max_element = np.max(matrix)\n",
        "print(\"Найбільший елемент матриці \", max_element)\n",
        "min_element = np.min(matrix)\n",
        "print(\"Найменший елемент матриці \", min_element)"
      ],
      "metadata": {
        "colab": {
          "base_uri": "https://localhost:8080/"
        },
        "id": "4FzlKA63zqNb",
        "outputId": "78dd768f-05d2-404e-bbca-27d22767aac7"
      },
      "id": "4FzlKA63zqNb",
      "execution_count": 7,
      "outputs": [
        {
          "output_type": "stream",
          "name": "stdout",
          "text": [
            "Найбільший елемент матриці  5\n",
            "Найменший елемент матриці  1\n"
          ]
        }
      ]
    },
    {
      "cell_type": "code",
      "execution_count": 8,
      "id": "bd680e3e-4a8a-4b2c-9822-4a2c02e4be23",
      "metadata": {
        "tags": [],
        "colab": {
          "base_uri": "https://localhost:8080/"
        },
        "id": "bd680e3e-4a8a-4b2c-9822-4a2c02e4be23",
        "outputId": "b1c90391-db98-4f32-b677-79ffb77c06b2"
      },
      "outputs": [
        {
          "output_type": "execute_result",
          "data": {
            "text/plain": [
              "np.float64(2.3333333333333335)"
            ]
          },
          "metadata": {},
          "execution_count": 8
        }
      ],
      "source": [
        "# 6.\n",
        "mean = np.mean(matrix)\n",
        "mean"
      ]
    },
    {
      "cell_type": "code",
      "source": [
        "#7\n",
        "sqrt_matrix = np.sqrt(matrix)\n",
        "sqrt_matrix"
      ],
      "metadata": {
        "colab": {
          "base_uri": "https://localhost:8080/"
        },
        "id": "NZnZNof-FlE7",
        "outputId": "328eb289-6026-4074-bb8a-b4383d707788"
      },
      "id": "NZnZNof-FlE7",
      "execution_count": 9,
      "outputs": [
        {
          "output_type": "execute_result",
          "data": {
            "text/plain": [
              "array([[1.41421356, 2.23606798, 1.41421356],\n",
              "       [1.        , 2.        , 1.        ],\n",
              "       [1.        , 1.41421356, 1.73205081]])"
            ]
          },
          "metadata": {},
          "execution_count": 9
        }
      ]
    },
    {
      "cell_type": "code",
      "execution_count": 10,
      "id": "6550cd09-c6e7-4842-a13f-81c755b38252",
      "metadata": {
        "tags": [],
        "colab": {
          "base_uri": "https://localhost:8080/"
        },
        "id": "6550cd09-c6e7-4842-a13f-81c755b38252",
        "outputId": "ea5004fa-6599-4a53-95fb-3f74d2f9c8b6"
      },
      "outputs": [
        {
          "output_type": "execute_result",
          "data": {
            "text/plain": [
              "array([[9],\n",
              "       [6],\n",
              "       [6]])"
            ]
          },
          "metadata": {},
          "execution_count": 10
        }
      ],
      "source": [
        "# 8\n",
        "row_suns = np.sum(matrix, axis = 1).reshape(-1, 1)\n",
        "row_suns"
      ]
    },
    {
      "cell_type": "code",
      "source": [
        "# 9\n",
        "vector = np.random.randint(0, 10, size = 25)\n",
        "print(\"Початковий вектор:\")\n",
        "print(vector)\n",
        "sorted_vector = np.sort(vector)[::-1]\n",
        "print(\"Відсортований вектор:\")\n",
        "print(sorted_vector)"
      ],
      "metadata": {
        "colab": {
          "base_uri": "https://localhost:8080/"
        },
        "id": "e7XLi9ALGHCO",
        "outputId": "3af75067-5568-4116-f97e-e3fcfb107dd4"
      },
      "id": "e7XLi9ALGHCO",
      "execution_count": 11,
      "outputs": [
        {
          "output_type": "stream",
          "name": "stdout",
          "text": [
            "Початковий вектор:\n",
            "[8 2 2 2 9 7 7 8 6 7 0 0 7 8 5 2 1 7 4 0 7 6 4 5 4]\n",
            "Відсортований вектор:\n",
            "[9 8 8 8 7 7 7 7 7 7 6 6 5 5 4 4 4 2 2 2 2 1 0 0 0]\n"
          ]
        }
      ]
    },
    {
      "cell_type": "code",
      "source": [
        "#10\n",
        "from scipy import stats\n",
        "mode = stats.mode(vector)\n",
        "median = np.median(vector)\n",
        "mean = np.mean(vector)\n",
        "max_value = np.max(vector)\n",
        "min_value = np.min(vector)\n",
        "print(mode)\n",
        "print(median)\n",
        "print(mean)\n",
        "print(max_value)\n",
        "print(min_value)"
      ],
      "metadata": {
        "colab": {
          "base_uri": "https://localhost:8080/"
        },
        "id": "8LB8UdL7z8VI",
        "outputId": "de78b6c8-411e-4591-9d7c-ec65e51872e8"
      },
      "id": "8LB8UdL7z8VI",
      "execution_count": 12,
      "outputs": [
        {
          "output_type": "stream",
          "name": "stdout",
          "text": [
            "ModeResult(mode=np.int64(7), count=np.int64(6))\n",
            "5.0\n",
            "4.72\n",
            "9\n",
            "0\n"
          ]
        }
      ]
    },
    {
      "cell_type": "code",
      "execution_count": 13,
      "id": "122d5a0f-9305-4bbb-97c2-95e6351a9e12",
      "metadata": {
        "tags": [],
        "colab": {
          "base_uri": "https://localhost:8080/"
        },
        "id": "122d5a0f-9305-4bbb-97c2-95e6351a9e12",
        "outputId": "cd51a1b7-553d-4c32-c155-354d27aa2f8a"
      },
      "outputs": [
        {
          "output_type": "stream",
          "name": "stdout",
          "text": [
            "Матриця 1:\n",
            "[[ 2  9  8  2]\n",
            " [ 9  5  4  2]\n",
            " [ 5  2  7  9]\n",
            " [ 4 10 10  6]]\n",
            "\n",
            "Матриця 2:\n",
            "[[ 4  2  5  5]\n",
            " [ 9  7 10 10]\n",
            " [10  5  9 10]\n",
            " [ 9  5  9  2]]\n",
            "\n",
            "Сума матриць:\n",
            "[[ 4  2  5  5]\n",
            " [ 9  7 10 10]\n",
            " [10  5  9 10]\n",
            " [ 9  5  9  2]]\n",
            "\n",
            "Різниця матриць:\n",
            "[[ 4  2  5  5]\n",
            " [ 9  7 10 10]\n",
            " [10  5  9 10]\n",
            " [ 9  5  9  2]]\n",
            "\n",
            "Поелементний добуток матриць:\n",
            "[[ 4  2  5  5]\n",
            " [ 9  7 10 10]\n",
            " [10  5  9 10]\n",
            " [ 9  5  9  2]]\n"
          ]
        }
      ],
      "source": [
        "# 11\n",
        "matrix1 = np.random.randint(1, 11, size=(4, 4))\n",
        "matrix2 = np.random.randint(1, 11, size=(4, 4))\n",
        "\n",
        "print(\"Матриця 1:\")\n",
        "print(matrix1)\n",
        "print(\"\\nМатриця 2:\")\n",
        "print(matrix2)\n",
        "\n",
        "matrix_sum = matrix1 = matrix2\n",
        "matrix_diff = matrix1 = matrix2\n",
        "matrix_product = matrix1 = matrix2\n",
        "matrix_division = np.divide(matrix1, matrix2, where=(matrix2!=0))\n",
        "print(\"\\nСума матриць:\")\n",
        "print(matrix_sum)\n",
        "print(\"\\nРізниця матриць:\")\n",
        "print(matrix_diff)\n",
        "print(\"\\nПоелементний добуток матриць:\")\n",
        "print(matrix_product)"
      ]
    },
    {
      "cell_type": "code",
      "execution_count": 14,
      "id": "a6aebb3e-8897-43c1-80c3-2b3cd741f9b5",
      "metadata": {
        "tags": [],
        "colab": {
          "base_uri": "https://localhost:8080/"
        },
        "id": "a6aebb3e-8897-43c1-80c3-2b3cd741f9b5",
        "outputId": "c4963ffc-4915-4e6f-eb2f-98ac4ad938f5"
      },
      "outputs": [
        {
          "output_type": "execute_result",
          "data": {
            "text/plain": [
              "array([0., 1., 2., 3., 4., 5., 6., 7., 8.])"
            ]
          },
          "metadata": {},
          "execution_count": 14
        }
      ],
      "source": [
        "# 12\n",
        "x = np.arange(9.0)\n",
        "x\n"
      ]
    },
    {
      "cell_type": "code",
      "source": [
        "x1 = x.reshape((3, 3))\n",
        "x1"
      ],
      "metadata": {
        "colab": {
          "base_uri": "https://localhost:8080/"
        },
        "id": "FP93U2f4DSwU",
        "outputId": "0e268f98-4544-4348-fa39-e7be74595534"
      },
      "id": "FP93U2f4DSwU",
      "execution_count": 15,
      "outputs": [
        {
          "output_type": "execute_result",
          "data": {
            "text/plain": [
              "array([[0., 1., 2.],\n",
              "       [3., 4., 5.],\n",
              "       [6., 7., 8.]])"
            ]
          },
          "metadata": {},
          "execution_count": 15
        }
      ]
    },
    {
      "cell_type": "code",
      "source": [
        "x2 = np.arange(3.0)\n",
        "np.multiply(x1, x2)"
      ],
      "metadata": {
        "colab": {
          "base_uri": "https://localhost:8080/"
        },
        "id": "pqiUa1jqDdJt",
        "outputId": "f0a178d1-4a05-469f-de9d-818e79c1c553"
      },
      "id": "pqiUa1jqDdJt",
      "execution_count": 16,
      "outputs": [
        {
          "output_type": "execute_result",
          "data": {
            "text/plain": [
              "array([[ 0.,  1.,  4.],\n",
              "       [ 0.,  4., 10.],\n",
              "       [ 0.,  7., 16.]])"
            ]
          },
          "metadata": {},
          "execution_count": 16
        }
      ]
    },
    {
      "cell_type": "code",
      "source": [
        "#13.1\n",
        "x1 = np.arange(6)\n",
        "x1"
      ],
      "metadata": {
        "colab": {
          "base_uri": "https://localhost:8080/"
        },
        "id": "7Sbqjcc10H4T",
        "outputId": "a31031c9-2c5b-4cfa-d006-22c9a2fbf3a0"
      },
      "id": "7Sbqjcc10H4T",
      "execution_count": 17,
      "outputs": [
        {
          "output_type": "execute_result",
          "data": {
            "text/plain": [
              "array([0, 1, 2, 3, 4, 5])"
            ]
          },
          "metadata": {},
          "execution_count": 17
        }
      ]
    },
    {
      "cell_type": "code",
      "source": [
        "np.power(x1, 3)"
      ],
      "metadata": {
        "colab": {
          "base_uri": "https://localhost:8080/"
        },
        "id": "3bkBMdyLD1u5",
        "outputId": "a675105e-5622-4454-b1b9-bbed732ee148"
      },
      "id": "3bkBMdyLD1u5",
      "execution_count": 18,
      "outputs": [
        {
          "output_type": "execute_result",
          "data": {
            "text/plain": [
              "array([  0,   1,   8,  27,  64, 125])"
            ]
          },
          "metadata": {},
          "execution_count": 18
        }
      ]
    },
    {
      "cell_type": "code",
      "source": [
        "# 13.2\n",
        "x2 = np.array([1, 2, 3, 3, 2, 1])\n",
        "x1 = np.arange(6)\n",
        "x1**x2"
      ],
      "metadata": {
        "colab": {
          "base_uri": "https://localhost:8080/"
        },
        "id": "6XnIOqvn0gdi",
        "outputId": "4f026ca0-c92b-43ef-ded8-dfdea9b53c07"
      },
      "id": "6XnIOqvn0gdi",
      "execution_count": 19,
      "outputs": [
        {
          "output_type": "execute_result",
          "data": {
            "text/plain": [
              "array([ 0,  1,  8, 27, 16,  5])"
            ]
          },
          "metadata": {},
          "execution_count": 19
        }
      ]
    },
    {
      "cell_type": "markdown",
      "source": [
        "Висновок: Дана лабораторну роботу,ввела мене в курс діла стосовно свої  роботи із матрицями у коді, та зрозумів як вона працює.\n"
      ],
      "metadata": {
        "id": "LSuNKymCEMgb"
      },
      "id": "LSuNKymCEMgb"
    }
  ],
  "metadata": {
    "kernelspec": {
      "display_name": "Python 3 (ipykernel)",
      "language": "python",
      "name": "python3"
    },
    "language_info": {
      "codemirror_mode": {
        "name": "ipython",
        "version": 3
      },
      "file_extension": ".py",
      "mimetype": "text/x-python",
      "name": "python",
      "nbconvert_exporter": "python",
      "pygments_lexer": "ipython3",
      "version": "3.9.2"
    },
    "colab": {
      "provenance": [],
      "include_colab_link": true
    }
  },
  "nbformat": 4,
  "nbformat_minor": 5
}