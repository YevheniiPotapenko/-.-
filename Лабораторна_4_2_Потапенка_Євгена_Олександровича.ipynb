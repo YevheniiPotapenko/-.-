{
  "nbformat": 4,
  "nbformat_minor": 0,
  "metadata": {
    "colab": {
      "provenance": [],
      "include_colab_link": true
    },
    "kernelspec": {
      "name": "python3",
      "display_name": "Python 3"
    },
    "language_info": {
      "name": "python"
    }
  },
  "cells": [
    {
      "cell_type": "markdown",
      "metadata": {
        "id": "view-in-github",
        "colab_type": "text"
      },
      "source": [
        "<a href=\"https://colab.research.google.com/github/YevheniiPotapenko/Files/blob/main/%D0%9B%D0%B0%D0%B1%D0%BE%D1%80%D0%B0%D1%82%D0%BE%D1%80%D0%BD%D0%B0_4_2_%D0%9F%D0%BE%D1%82%D0%B0%D0%BF%D0%B5%D0%BD%D0%BA%D0%B0_%D0%84%D0%B2%D0%B3%D0%B5%D0%BD%D0%B0_%D0%9E%D0%BB%D0%B5%D0%BA%D1%81%D0%B0%D0%BD%D0%B4%D1%80%D0%BE%D0%B2%D0%B8%D1%87%D0%B0.ipynb\" target=\"_parent\"><img src=\"https://colab.research.google.com/assets/colab-badge.svg\" alt=\"Open In Colab\"/></a>"
      ]
    },
    {
      "cell_type": "markdown",
      "source": [
        "Лабораторна робота 4_2, Потапенка_Євгена_Олександровича, Група ФІТ 2-15. Варіант 11, Тема: «Робота з матрицями».\n"
      ],
      "metadata": {
        "id": "kjA-cv_Lxgdr"
      }
    },
    {
      "cell_type": "code",
      "execution_count": 13,
      "metadata": {
        "id": "DlhB3T_KwRie"
      },
      "outputs": [],
      "source": [
        "import numpy as np\n",
        "a = np.array([\n",
        "    [2, -1, -1],\n",
        "    [3, 4, -2],\n",
        "    [1, -3, 1],\n",
        "])\n",
        "b = np.array([[5], [-3], [4]])"
      ]
    },
    {
      "cell_type": "code",
      "source": [
        "#Матричний метод (1 спосіб)\n",
        "det_a = np.linalg.det(a)\n",
        "if det_a == 0:\n",
        "    print(\"Визначник дорівнює нулю - рішень немає\")\n",
        "else:\n",
        "  a_inv = np.linalg.inv(a)\n",
        "  print(f\"Обернена матриця до матриці A: \\r\\n {a_inv }\")\n",
        "  print(f\"Вектор рішення: \\r\\n {a_inv.dot(b)}\")"
      ],
      "metadata": {
        "colab": {
          "base_uri": "https://localhost:8080/"
        },
        "id": "p6xCePN2waI2",
        "outputId": "1ca637ec-bd45-457d-aded-cb87b0cc2bef"
      },
      "execution_count": 14,
      "outputs": [
        {
          "output_type": "stream",
          "name": "stdout",
          "text": [
            "Обернена матриця до матриці A: \r\n",
            " [[-0.14285714  0.28571429  0.42857143]\n",
            " [-0.35714286  0.21428571  0.07142857]\n",
            " [-0.92857143  0.35714286  0.78571429]]\n",
            "Вектор рішення: \r\n",
            " [[ 0.14285714]\n",
            " [-2.14285714]\n",
            " [-2.57142857]]\n"
          ]
        }
      ]
    },
    {
      "cell_type": "code",
      "source": [
        "# Напиши функцію для вирішення системи матричним методом (2 спосіб)\n",
        "def solve_inv_matrix(a, b, verbose=False):\n",
        "    det = np.linalg.det(a)\n",
        "    if verbose: print(f\"Визначник матриці A: {round(det)}\")\n",
        "    if det == 0:\n",
        "        print(\"Визначник дорівнює нулю - рішень немає\")\n",
        "        return None\n",
        "\n",
        "    a_inv= np.linalg.inv(a)\n",
        "    if verbose: print(f\"Обернена матриця до матриці A: \\r\\n {a_inv }\")\n",
        "    return a_inv.dot(b)\n",
        "\n",
        "print(f\"Вектор рішення: \\r\\n {solve_inv_matrix(a, b)}\")"
      ],
      "metadata": {
        "colab": {
          "base_uri": "https://localhost:8080/"
        },
        "id": "vVOGJcfowh1Z",
        "outputId": "43f4be5c-9e2f-42f5-94f6-11237f40c8eb"
      },
      "execution_count": 15,
      "outputs": [
        {
          "output_type": "stream",
          "name": "stdout",
          "text": [
            "Вектор рішення: \r\n",
            " [[ 0.14285714]\n",
            " [-2.14285714]\n",
            " [-2.57142857]]\n"
          ]
        }
      ]
    },
    {
      "cell_type": "code",
      "source": [
        "#метод Крамера (1 спосіб)\n",
        "# Метод Крамера\n",
        "det_a = np.linalg.det(a)\n",
        "\n",
        "if det_a == 0:\n",
        "    print(\"Визначник дорівнює нулю — система не має єдиного розв’язку.\")\n",
        "else:\n",
        "    def replace_column(matrix, column_index, new_column):\n",
        "        new_matrix = np.copy(matrix)\n",
        "        new_matrix[:, column_index] = new_column\n",
        "        return new_matrix\n",
        "\n",
        "    # Обчислюємо Δx, Δy, Δz\n",
        "    delta_x = np.linalg.det(replace_column(a, 0, b.T))\n",
        "    delta_y = np.linalg.det(replace_column(a, 1, b.T))\n",
        "    delta_z = np.linalg.det(replace_column(a, 2, b.T))\n",
        "\n",
        "    # Обчислюємо x, y, z\n",
        "    print('x =', delta_x / det_a)\n",
        "    print('y =', delta_y / det_a)\n",
        "    print('z =', delta_z / det_a)\n",
        "\n"
      ],
      "metadata": {
        "colab": {
          "base_uri": "https://localhost:8080/"
        },
        "id": "tmzA_0CAwmds",
        "outputId": "0a08b032-3e00-4633-b6c5-907834f60b64"
      },
      "execution_count": 17,
      "outputs": [
        {
          "output_type": "stream",
          "name": "stdout",
          "text": [
            "x = 0.14285714285714265\n",
            "y = -2.1428571428571437\n",
            "z = -2.571428571428572\n"
          ]
        }
      ]
    },
    {
      "cell_type": "code",
      "source": [
        "# Напиши функцію для вирішення системи методом Крамера\n",
        "def solve_cramer(a, b, verbose=False):\n",
        "    det = np.linalg.det(a)\n",
        "    if verbose: print(f\"Визначник матриці A: {round(det)}\")\n",
        "    if det == 0:\n",
        "        print(\"Визначник дорівнює нулю - рішень немає\")\n",
        "        return None\n",
        "\n",
        "    len_a = len(a)\n",
        "    x = np.zeros((len_a, 1))\n",
        "    for i in range(len_a):\n",
        "        temp = np.copy(a)\n",
        "        temp[:, [i]] = b\n",
        "        x[i, 0] = np.linalg.det(temp)/det\n",
        "\n",
        "    return x\n",
        "\n",
        "\n",
        "print(f\"Вектор рішення: \\r\\n {solve_cramer(a, b)}\")"
      ],
      "metadata": {
        "colab": {
          "base_uri": "https://localhost:8080/"
        },
        "id": "wrjoJ3pWwptY",
        "outputId": "93a9d8ae-d712-4371-e983-110bdf9943ba"
      },
      "execution_count": 18,
      "outputs": [
        {
          "output_type": "stream",
          "name": "stdout",
          "text": [
            "Вектор рішення: \r\n",
            " [[ 0.14285714]\n",
            " [-2.14285714]\n",
            " [-2.57142857]]\n"
          ]
        }
      ]
    },
    {
      "cell_type": "markdown",
      "source": [
        "Перевірка"
      ],
      "metadata": {
        "id": "KLFQe9XLwtrE"
      }
    },
    {
      "cell_type": "code",
      "source": [
        "x = np.linalg.solve(a, b)\n",
        "\n",
        "print(x)"
      ],
      "metadata": {
        "colab": {
          "base_uri": "https://localhost:8080/"
        },
        "id": "H2jnfCBrwwRp",
        "outputId": "cfec1bcc-f403-40f1-e6f1-149b0093ad59"
      },
      "execution_count": 19,
      "outputs": [
        {
          "output_type": "stream",
          "name": "stdout",
          "text": [
            "[[ 0.14285714]\n",
            " [-2.14285714]\n",
            " [-2.57142857]]\n"
          ]
        }
      ]
    },
    {
      "cell_type": "code",
      "source": [
        "# Напиши функцію для вирішення системи методом Гауса\n",
        "def solve_gausse(a, b, verbose=False):\n",
        "    det = np.linalg.det(a)\n",
        "    if verbose: print(f\"Визначник матриці A: {round(det)}\")\n",
        "    if det == 0:\n",
        "        print(\"Визначник дорівнює нулю - рішень немає\")\n",
        "        return None\n",
        "    # Reading number of unknowns\n",
        "    n = len(b)\n",
        "    m = np.concatenate([a, b], axis=1, dtype=float)\n",
        "\n",
        "    # Applying Gauss-Jordan Elimination\n",
        "    for i in range(n):\n",
        "\n",
        "        # Swap rows to avoid division by 0\n",
        "        if m[i, i] == 0:\n",
        "            for k in range(i+1, n):\n",
        "                if m[k, k] != 0:\n",
        "                    m[[i, k], :] = m[[k, i], :]\n",
        "                    break\n",
        "\n",
        "\n",
        "        if m[i, i] != 1:\n",
        "            m[i, :] *= 1/m[i, i]\n",
        "\n",
        "        for j in range(n):\n",
        "            if i != j:\n",
        "                ratio = m[j][i]/m[i][i]\n",
        "\n",
        "                m[j, :] = m[j, :] - ratio * m[i, :]\n",
        "\n",
        "    return m[:, [-1]]\n",
        "\n",
        "print(f\"Вектор рішення: \\r\\n {solve_gausse(a, b)}\")"
      ],
      "metadata": {
        "colab": {
          "base_uri": "https://localhost:8080/"
        },
        "id": "0jnvvtjmxJPE",
        "outputId": "d06927f6-a09f-4f70-f091-97e0821f9625"
      },
      "execution_count": 20,
      "outputs": [
        {
          "output_type": "stream",
          "name": "stdout",
          "text": [
            "Вектор рішення: \r\n",
            " [[ 0.14285714]\n",
            " [-2.14285714]\n",
            " [-2.57142857]]\n"
          ]
        }
      ]
    },
    {
      "cell_type": "markdown",
      "source": [
        "Висновок: Дана лабораторна робота дала мені знання щодо роботи із матрицями у коді."
      ],
      "metadata": {
        "id": "hmVGPqo21YwQ"
      }
    }
  ]
}